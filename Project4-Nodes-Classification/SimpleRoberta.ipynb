{
 "cells": [
  {
   "cell_type": "code",
   "execution_count": null,
   "metadata": {},
   "outputs": [],
   "source": [
    "!pip install transformers"
   ]
  },
  {
   "cell_type": "code",
   "execution_count": null,
   "metadata": {},
   "outputs": [],
   "source": [
    "!pip install simpletransformers"
   ]
  },
  {
   "cell_type": "code",
   "execution_count": null,
   "metadata": {},
   "outputs": [],
   "source": [
    "import pandas as pd\n",
    "from sklearn.metrics import f1_score, accuracy_score\n",
    "from simpletransformers.classification import ClassificationModel, ClassificationArgs\n",
    "import pandas as pd\n",
    "import logging"
   ]
  },
  {
   "cell_type": "code",
   "execution_count": null,
   "metadata": {},
   "outputs": [],
   "source": [
    "import numpy as np\n",
    "import time"
   ]
  },
  {
   "cell_type": "code",
   "execution_count": null,
   "metadata": {},
   "outputs": [],
   "source": [
    "train_df = pd.read_csv('../input/conaip4/train.csv', header=0)\n",
    "eval_df = pd.read_csv('../input/conaip4/val.csv', header=0)"
   ]
  },
  {
   "cell_type": "code",
   "execution_count": null,
   "metadata": {},
   "outputs": [],
   "source": [
    "model = ClassificationModel('roberta', 'roberta-base', num_labels=4)"
   ]
  },
  {
   "cell_type": "code",
   "execution_count": null,
   "metadata": {},
   "outputs": [],
   "source": [
    "train_df = train_df[['text','label']]"
   ]
  },
  {
   "cell_type": "code",
   "execution_count": null,
   "metadata": {},
   "outputs": [],
   "source": [
    "logging.basicConfig(level=logging.INFO)\n",
    "transformers_logger = logging.getLogger(\"transformers\")\n",
    "transformers_logger.setLevel(logging.WARNING)"
   ]
  },
  {
   "cell_type": "code",
   "execution_count": null,
   "metadata": {},
   "outputs": [],
   "source": [
    "model.train_model(train_df, logging_steps=100, num_train_epochs=3,\n",
    "                  output_dir='../output/conaip4-1/',\n",
    "                  evaluate_during_training_steps=256,\n",
    "                  evaluate_during_training_verbose = True)"
   ]
  },
  {
   "cell_type": "code",
   "execution_count": null,
   "metadata": {},
   "outputs": [],
   "source": [
    "eval_df = eval_df[['text','label']]\n",
    "result, model_outputs, wrong_predictions = model.eval_model(eval_df)\n",
    "print(result)"
   ]
  },
  {
   "cell_type": "code",
   "execution_count": null,
   "metadata": {},
   "outputs": [],
   "source": [
    "model_outputs"
   ]
  },
  {
   "cell_type": "code",
   "execution_count": null,
   "metadata": {},
   "outputs": [],
   "source": [
    "test_df = pd.read_csv('../input/conaip4/test.csv', header=0)\n",
    "test_df_len = test_df.count()"
   ]
  },
  {
   "cell_type": "code",
   "execution_count": null,
   "metadata": {},
   "outputs": [],
   "source": [
    "test_df_len"
   ]
  },
  {
   "cell_type": "code",
   "execution_count": null,
   "metadata": {},
   "outputs": [],
   "source": [
    "test_df"
   ]
  },
  {
   "cell_type": "code",
   "execution_count": null,
   "metadata": {},
   "outputs": [],
   "source": [
    "predictions, raw_outputs = model.predict(['American television films;1975 television films;Drama films;'])"
   ]
  },
  {
   "cell_type": "code",
   "execution_count": 94,
   "metadata": {
    "execution": {
     "iopub.status.idle": "2021-12-26T11:28:11.870217Z",
     "shell.execute_reply": "2021-12-26T11:28:11.869306Z",
     "shell.execute_reply.started": "2021-12-26T10:00:34.148057Z"
    }
   },
   "outputs": [],
   "source": [
    "T1 = time.time()\n",
    "# predictions, raw_outputs = model.predict(['American television films;1975 television films;Drama films;'])\n",
    "test_ans = []\n",
    "for i in range(10285): # 10285 测试数据\n",
    "  # test_ans.append()\n",
    "  predictions, raw_outputs = model.predict([test_df['text'][i]])\n",
    "  # print(predictions) \n",
    "  test_ans.append([test_df['id'][i],predictions.item()])\n",
    "  # print(test_df['id'][i],predictions,raw_outputs)\n",
    "T2 = time.time()\n",
    "print('Time Consumption:%s' % ((T2 - T1)))"
   ]
  },
  {
   "cell_type": "code",
   "execution_count": 96,
   "metadata": {
    "execution": {
     "iopub.execute_input": "2021-12-26T11:30:34.339133Z",
     "iopub.status.busy": "2021-12-26T11:30:34.338385Z",
     "iopub.status.idle": "2021-12-26T11:30:34.386271Z",
     "shell.execute_reply": "2021-12-26T11:30:34.385594Z",
     "shell.execute_reply.started": "2021-12-26T11:30:34.339094Z"
    }
   },
   "outputs": [],
   "source": [
    "a = np.asarray(test_ans)\n",
    "pd.DataFrame(a).to_csv('test_ans.csv')"
   ]
  }
 ],
 "metadata": {
  "kernelspec": {
   "display_name": "Python 3",
   "language": "python",
   "name": "python3"
  },
  "language_info": {
   "codemirror_mode": {
    "name": "ipython",
    "version": 3
   },
   "file_extension": ".py",
   "mimetype": "text/x-python",
   "name": "python",
   "nbconvert_exporter": "python",
   "pygments_lexer": "ipython3",
   "version": "3.8.5"
  }
 },
 "nbformat": 4,
 "nbformat_minor": 4
}
