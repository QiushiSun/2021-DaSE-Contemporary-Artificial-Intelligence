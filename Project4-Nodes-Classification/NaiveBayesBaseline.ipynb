{
  "cells": [
    {
      "cell_type": "markdown",
      "source": [
        "# Con AI Project4 节点分类"
      ],
      "metadata": {
        "id": "GMqIVsA08rrg"
      }
    },
    {
      "cell_type": "markdown",
      "source": [
        "本次实验的指导中要求使用预训练方式，做这个基于Naive Bayes的实现是为了提供性能上的参考，不具备太多单独实践的意义"
      ],
      "metadata": {
        "id": "E2r_2guW8uzK"
      }
    },
    {
      "cell_type": "markdown",
      "metadata": {
        "id": "PxyTeLaK3BN9"
      },
      "source": [
        "## 准备工作"
      ]
    },
    {
      "cell_type": "code",
      "execution_count": null,
      "metadata": {
        "ExecuteTime": {
          "end_time": "2020-06-26T12:47:24.089898Z",
          "start_time": "2020-06-26T12:47:24.086753Z"
        },
        "id": "fXydQhuV3BN9"
      },
      "outputs": [],
      "source": [
        "import numpy as np\n",
        "import re\n",
        "import random\n",
        "import pandas as pd"
      ]
    },
    {
      "cell_type": "markdown",
      "metadata": {
        "id": "9opFuocm3BN_"
      },
      "source": [
        "先导入一些基本的python库"
      ]
    },
    {
      "cell_type": "code",
      "execution_count": null,
      "metadata": {
        "id": "W7Qwo2cK3BN_"
      },
      "outputs": [],
      "source": [
        "from sklearn.datasets import fetch_20newsgroups # 也可以加载在本地\n",
        "from sklearn.model_selection import train_test_split # 导入文本特征向量转化模块\n",
        "from sklearn.feature_extraction.text import CountVectorizer\n",
        "from sklearn.naive_bayes import MultinomialNB # 导入朴素贝叶斯模型\n",
        "from sklearn.metrics import classification_report # 模型评估模块"
      ]
    },
    {
      "cell_type": "markdown",
      "metadata": {
        "id": "NMCnB6vV3BOA"
      },
      "source": [
        "分别导入数据集，embedding模块，朴素贝叶斯和模型评估"
      ]
    },
    {
      "cell_type": "code",
      "execution_count": null,
      "metadata": {
        "id": "Ggyfvkp63BOA"
      },
      "outputs": [],
      "source": [
        "import matplotlib.pyplot as plt\n",
        "import seaborn as sns\n",
        "plt.rcParams['figure.figsize'] = (10.0, 8.0)"
      ]
    },
    {
      "cell_type": "markdown",
      "metadata": {
        "id": "Nrt8cISQ3BOB"
      },
      "source": [
        "准备可视化工具"
      ]
    },
    {
      "cell_type": "markdown",
      "metadata": {
        "id": "4GYS5j8U3BOB"
      },
      "source": [
        "以下为手动实现的朴素贝叶斯方法供参考和算法原理解释，实际运用时为了方便得到评估精度和报告，依然是采取了sklearn库中的算法，所以如果单纯是想得到分类结果可以跳过以下部分"
      ]
    },
    {
      "cell_type": "code",
      "execution_count": null,
      "metadata": {
        "ExecuteTime": {
          "end_time": "2020-06-26T13:40:57.307072Z",
          "start_time": "2020-06-26T13:40:57.205369Z"
        },
        "id": "4NCNXibW3BOF"
      },
      "outputs": [],
      "source": [
        "news = fetch_20newsgroups(subset=\"all\")"
      ]
    },
    {
      "cell_type": "code",
      "execution_count": null,
      "metadata": {
        "ExecuteTime": {
          "end_time": "2020-06-26T13:41:04.348907Z",
          "start_time": "2020-06-26T13:41:04.341926Z"
        },
        "id": "s5C_x_K53BOF",
        "outputId": "9a42ab66-e9ae-461c-e196-7722c7e61d9c"
      },
      "outputs": [
        {
          "data": {
            "text/plain": [
              "array([10,  3, 17, ...,  3,  1,  7])"
            ]
          },
          "execution_count": 14,
          "metadata": {},
          "output_type": "execute_result"
        }
      ],
      "source": [
        "news.target"
      ]
    },
    {
      "cell_type": "code",
      "source": [
        "train_df = pd.read_csv('train.csv', header=0)\n",
        "eval_df = pd.read_csv('val.csv', header=0)"
      ],
      "metadata": {
        "id": "MJRWGscc3rqN"
      },
      "execution_count": null,
      "outputs": []
    },
    {
      "cell_type": "markdown",
      "metadata": {
        "id": "EdJ-clRr3BOG"
      },
      "source": [
        "## 调用朴素贝叶斯算法"
      ]
    },
    {
      "cell_type": "code",
      "execution_count": null,
      "metadata": {
        "ExecuteTime": {
          "end_time": "2020-06-26T14:39:50.557929Z",
          "start_time": "2020-06-26T14:39:50.543964Z"
        },
        "id": "7VAP0Rbv3BOG"
      },
      "outputs": [],
      "source": [
        "# x_train, x_test, y_train, y_test = train_test_split(news.data,news.target,test_size=0.25,random_state=3)\n",
        "x_train = train_df['text']\n",
        "y_train = train_df['label']\n",
        "\n",
        "x_test = eval_df['text']\n",
        "y_test = eval_df['label']"
      ]
    },
    {
      "cell_type": "code",
      "source": [
        "x_train"
      ],
      "metadata": {
        "colab": {
          "base_uri": "https://localhost:8080/"
        },
        "id": "_vI9fuyU4N3g",
        "outputId": "c52d17fb-9d98-4401-e848-807ae626c9df"
      },
      "execution_count": null,
      "outputs": [
        {
          "output_type": "execute_result",
          "data": {
            "text/plain": [
              "0        1958 films;American films;Comedy films;English...\n",
              "1        American animators;Living people;Year of birth...\n",
              "2        1966 births;American film actors;American tele...\n",
              "3        1985 births;African American actors;American c...\n",
              "4        1999 films;Canadian films;Kenyan films;English...\n",
              "                               ...                        \n",
              "21593           1971 films;Comedy films;Independent films;\n",
              "21594    2006 films;Anime of 2006;Animated films;Robote...\n",
              "21595    1996 films;Comedy films;Films directed by Rich...\n",
              "21596    1943 births;Dutch Roman Catholics;Dutch cinema...\n",
              "21597    1985 films;American drama films;1980s drama fi...\n",
              "Name: text, Length: 21598, dtype: object"
            ]
          },
          "metadata": {},
          "execution_count": 26
        }
      ]
    },
    {
      "cell_type": "code",
      "execution_count": null,
      "metadata": {
        "ExecuteTime": {
          "end_time": "2020-06-26T13:39:35.877411Z",
          "start_time": "2020-06-26T13:39:28.836076Z"
        },
        "colab": {
          "base_uri": "https://localhost:8080/"
        },
        "id": "nR1KP-Ot3BOG",
        "outputId": "ee3dcdbc-bf6a-40a8-ae4d-4c015987f26e"
      },
      "outputs": [
        {
          "output_type": "stream",
          "name": "stdout",
          "text": [
            "Accuracy: 0.92\n",
            "Indicators：\n",
            "               precision    recall  f1-score   support\n",
            "\n",
            "           0       0.85      0.96      0.90       715\n",
            "           1       0.85      0.83      0.84       261\n",
            "           2       0.63      0.31      0.41       169\n",
            "           3       1.00      1.00      1.00      1255\n",
            "\n",
            "    accuracy                           0.92      2400\n",
            "   macro avg       0.83      0.77      0.79      2400\n",
            "weighted avg       0.91      0.92      0.91      2400\n",
            "\n"
          ]
        }
      ],
      "source": [
        "#3 贝叶斯分类器对新闻进行预测\n",
        "# 进行文本转化为特征\n",
        "vec = CountVectorizer()\n",
        "x_train = vec.fit_transform(x_train)\n",
        "x_test = vec.transform(x_test)\n",
        "# 初始化朴素贝叶斯模型\n",
        "mnb = MultinomialNB()\n",
        "# 训练集合上进行训练， 估计参数\n",
        "mnb.fit(x_train, y_train)\n",
        "# 对测试集合进行预测 保存预测结果\n",
        "y_predict = mnb.predict(x_test)\n",
        "#模型评估\n",
        "print(\"Accuracy:\", mnb.score(x_test, y_test))\n",
        "print(\"Indicators：\\n\",classification_report(y_test, y_predict))"
      ]
    },
    {
      "cell_type": "markdown",
      "metadata": {
        "id": "zxm7vucf3BOH"
      },
      "source": [
        "## 朴素贝叶斯算法的交叉验证"
      ]
    },
    {
      "cell_type": "markdown",
      "metadata": {
        "id": "-cxfohpz3BOH"
      },
      "source": [
        "接下来实现交叉验证，获取最优的超参数lambda（拉普拉斯平滑因子），即使这是统计机器学习算法也比较耗时，所以现在的深度学习任务中一般不做Cross Validation"
      ]
    },
    {
      "cell_type": "code",
      "execution_count": null,
      "metadata": {
        "colab": {
          "base_uri": "https://localhost:8080/"
        },
        "id": "cgNbEr4L3BOH",
        "outputId": "bf2dae7a-aa37-4627-e3f6-e6b342e50989"
      },
      "outputs": [
        {
          "output_type": "stream",
          "name": "stdout",
          "text": [
            "validation accuracy: 0.9258333333333333 fold 1 lambda= 0.0001\n",
            "validation accuracy: 0.9258333333333333 fold 2 lambda= 0.0001\n",
            "validation accuracy: 0.9258333333333333 fold 3 lambda= 0.0001\n",
            "validation accuracy: 0.9258333333333333 fold 4 lambda= 0.0001\n",
            "validation accuracy: 0.9258333333333333 fold 5 lambda= 0.0001\n",
            "lambda: 0.0001 accuracy: 0.9258333333333333\n",
            "validation accuracy: 0.9279166666666666 fold 1 lambda= 0.001\n",
            "validation accuracy: 0.9279166666666666 fold 2 lambda= 0.001\n",
            "validation accuracy: 0.9279166666666666 fold 3 lambda= 0.001\n",
            "validation accuracy: 0.9279166666666666 fold 4 lambda= 0.001\n",
            "validation accuracy: 0.9279166666666666 fold 5 lambda= 0.001\n",
            "lambda: 0.001 accuracy: 0.9279166666666667\n",
            "validation accuracy: 0.9258333333333333 fold 1 lambda= 0.01\n",
            "validation accuracy: 0.9258333333333333 fold 2 lambda= 0.01\n",
            "validation accuracy: 0.9258333333333333 fold 3 lambda= 0.01\n",
            "validation accuracy: 0.9258333333333333 fold 4 lambda= 0.01\n",
            "validation accuracy: 0.9258333333333333 fold 5 lambda= 0.01\n",
            "lambda: 0.01 accuracy: 0.9258333333333333\n",
            "validation accuracy: 0.925 fold 1 lambda= 0.05\n",
            "validation accuracy: 0.925 fold 2 lambda= 0.05\n",
            "validation accuracy: 0.925 fold 3 lambda= 0.05\n",
            "validation accuracy: 0.925 fold 4 lambda= 0.05\n",
            "validation accuracy: 0.925 fold 5 lambda= 0.05\n",
            "lambda: 0.05 accuracy: 0.925\n",
            "validation accuracy: 0.9233333333333333 fold 1 lambda= 0.125\n",
            "validation accuracy: 0.9233333333333333 fold 2 lambda= 0.125\n",
            "validation accuracy: 0.9233333333333333 fold 3 lambda= 0.125\n",
            "validation accuracy: 0.9233333333333333 fold 4 lambda= 0.125\n",
            "validation accuracy: 0.9233333333333333 fold 5 lambda= 0.125\n",
            "lambda: 0.125 accuracy: 0.9233333333333335\n",
            "validation accuracy: 0.9216666666666666 fold 1 lambda= 0.25\n",
            "validation accuracy: 0.9216666666666666 fold 2 lambda= 0.25\n",
            "validation accuracy: 0.9216666666666666 fold 3 lambda= 0.25\n",
            "validation accuracy: 0.9216666666666666 fold 4 lambda= 0.25\n",
            "validation accuracy: 0.9216666666666666 fold 5 lambda= 0.25\n",
            "lambda: 0.25 accuracy: 0.9216666666666666\n",
            "validation accuracy: 0.9216666666666666 fold 1 lambda= 0.5\n",
            "validation accuracy: 0.9216666666666666 fold 2 lambda= 0.5\n",
            "validation accuracy: 0.9216666666666666 fold 3 lambda= 0.5\n",
            "validation accuracy: 0.9216666666666666 fold 4 lambda= 0.5\n",
            "validation accuracy: 0.9216666666666666 fold 5 lambda= 0.5\n",
            "lambda: 0.5 accuracy: 0.9216666666666666\n",
            "validation accuracy: 0.9191666666666667 fold 1 lambda= 0.75\n",
            "validation accuracy: 0.9191666666666667 fold 2 lambda= 0.75\n",
            "validation accuracy: 0.9191666666666667 fold 3 lambda= 0.75\n",
            "validation accuracy: 0.9191666666666667 fold 4 lambda= 0.75\n",
            "validation accuracy: 0.9191666666666667 fold 5 lambda= 0.75\n",
            "lambda: 0.75 accuracy: 0.9191666666666667\n",
            "validation accuracy: 0.92 fold 1 lambda= 1\n",
            "validation accuracy: 0.92 fold 2 lambda= 1\n",
            "validation accuracy: 0.92 fold 3 lambda= 1\n",
            "validation accuracy: 0.92 fold 4 lambda= 1\n",
            "validation accuracy: 0.92 fold 5 lambda= 1\n",
            "lambda: 1 accuracy: 0.9200000000000002\n",
            "validation accuracy: 0.91875 fold 1 lambda= 2\n",
            "validation accuracy: 0.91875 fold 2 lambda= 2\n",
            "validation accuracy: 0.91875 fold 3 lambda= 2\n",
            "validation accuracy: 0.91875 fold 4 lambda= 2\n",
            "validation accuracy: 0.91875 fold 5 lambda= 2\n",
            "lambda: 2 accuracy: 0.91875\n"
          ]
        }
      ],
      "source": [
        "# 交叉验证\n",
        "cross_validation_list= []\n",
        "lambda_list = [0.0001,0.001,0.01,0.05,0.125,0.25,0.5,0.75,1,2] #构造超参数搜索空间\n",
        "for hyper_param in lambda_list:\n",
        "    temp_acc = 0\n",
        "    temp_acc_list = []\n",
        "    for fold in range(0,5):\n",
        "        rand_state = random.randrange(0,100) #设置随机的随机状态\n",
        "        # x_train, x_test, y_train, y_test = train_test_split(news.data,news.target,test_size=0.2,random_state=rand_state)\n",
        "        x_train = train_df['text']\n",
        "        y_train = train_df['label']\n",
        "        x_test = eval_df['text']\n",
        "        y_test = eval_df['label']\n",
        "        vec = CountVectorizer()\n",
        "        x_train = vec.fit_transform(x_train)\n",
        "        x_test = vec.transform(x_test)\n",
        "        # 初始化朴素贝叶斯模型\n",
        "        multinomial_naive_bayes = MultinomialNB(alpha=hyper_param)\n",
        "        # 训练集合上进行训练， 估计参数\n",
        "        multinomial_naive_bayes.fit(x_train, y_train)\n",
        "        # 对测试集合进行预测 保存预测结果\n",
        "        y_predict = multinomial_naive_bayes.predict(x_test)\n",
        "        fold_accuracy = multinomial_naive_bayes.score(x_test, y_test)\n",
        "        print(\"validation accuracy:\", fold_accuracy ,\"fold\",fold+1,\"lambda=\",hyper_param)\n",
        "        temp_acc+=fold_accuracy\n",
        "        temp_acc_list.append(fold_accuracy)\n",
        "    print(\"lambda:\",hyper_param,\"accuracy:\",temp_acc/5)\n",
        "    cross_validation_list.append(temp_acc_list)"
      ]
    },
    {
      "cell_type": "markdown",
      "metadata": {
        "id": "CbIktuFV3BOH"
      },
      "source": [
        "## 交叉验证结果的可视化"
      ]
    },
    {
      "cell_type": "code",
      "execution_count": null,
      "metadata": {
        "id": "coq36Tg33BOI"
      },
      "outputs": [],
      "source": [
        "cv_mean=[] # 交叉验证得到的均值\n",
        "for lst in cross_validation_list:\n",
        "    cv_mean.append(np.mean(lst))"
      ]
    },
    {
      "cell_type": "code",
      "execution_count": null,
      "metadata": {
        "id": "XJjdfKtq3BOI"
      },
      "outputs": [],
      "source": [
        "# np.savetxt(\"cv_mean.csv\", cv_mean, delimiter=',') # 也是方便我导入latex罢了，没有这个需求可以不做"
      ]
    },
    {
      "cell_type": "code",
      "execution_count": null,
      "metadata": {
        "colab": {
          "base_uri": "https://localhost:8080/",
          "height": 279
        },
        "id": "5dhweAA73BOJ",
        "outputId": "0b9ca981-df5d-45cb-aec1-a29196e55260"
      },
      "outputs": [
        {
          "output_type": "display_data",
          "data": {
            "image/png": "[encoded data removed]",
            "text/plain": [
              "<Figure size 720x288 with 1 Axes>"
            ]
          },
          "metadata": {
            "needs_background": "light"
          }
        }
      ],
      "source": [
        "df = pd.DataFrame()\n",
        "df['Lambda'] = lambda_list\n",
        "df['Classification Accuracy'] =  cv_mean\n",
        "plt.figure(figsize=(10, 4))\n",
        "plt.ylim((0.5,1))\n",
        "my_y_ticks = np.arange(0.5,1,0.05)\n",
        "plt.yticks(my_y_ticks)\n",
        "p1=sns.barplot( data=df, x='Lambda', y='Classification Accuracy',palette=\"Blues_d\")\n",
        "plt.show()\n",
        "#我觉得seaborn制图的默认效果比matplotlib好看些"
      ]
    },
    {
      "cell_type": "code",
      "execution_count": null,
      "metadata": {
        "id": "vJj_Y7tY3BOJ"
      },
      "outputs": [],
      "source": [
        "err_plot_data_dict = dict(zip(lambda_list,cross_validation_list)) # 制作字典，用于数据可视化"
      ]
    },
    {
      "cell_type": "code",
      "execution_count": null,
      "metadata": {
        "id": "M7G1r9Mj3BOJ"
      },
      "outputs": [],
      "source": [
        "k_to_accuracies=err_plot_data_dict\n",
        "k_choices = lambda_list"
      ]
    },
    {
      "cell_type": "code",
      "execution_count": null,
      "metadata": {
        "colab": {
          "base_uri": "https://localhost:8080/",
          "height": 459
        },
        "id": "0NZbaOC93BOJ",
        "outputId": "d4141503-b4dd-45c7-c332-21934061d462"
      },
      "outputs": [
        {
          "output_type": "display_data",
          "data": {
            "image/png": "[encoded data removed]",
            "text/plain": [
              "<Figure size 1152x504 with 1 Axes>"
            ]
          },
          "metadata": {
            "needs_background": "light"
          }
        }
      ],
      "source": [
        "plt.rcParams['figure.figsize'] = (16.0, 7.0)\n",
        "for k in k_choices:\n",
        "    accuracies = k_to_accuracies[k]\n",
        "    plt.scatter([k] * len(accuracies), accuracies)\n",
        "plt.style.use('ggplot')\n",
        "# plot the trend line with error bars that correspond to standard deviation\n",
        "accuracies_mean = np.array([np.mean(v) for k,v in sorted(k_to_accuracies.items())])\n",
        "accuracies_std = np.array([np.std(v) for k,v in sorted(k_to_accuracies.items())])\n",
        "plt.errorbar(k_choices, accuracies_mean, yerr=accuracies_std,ecolor='royalblue')\n",
        "my_x_ticks = np.arange(0,2.1,0.1)\n",
        "plt.xticks(my_x_ticks)\n",
        "plt.title('5-Fold Cross-validation on lambda')\n",
        "plt.xlabel('lambda')\n",
        "plt.ylabel('Cross-validation accuracy')\n",
        "plt.show()"
      ]
    },
    {
      "cell_type": "markdown",
      "metadata": {
        "id": "OZ61Ox213BOJ"
      },
      "source": [
        "## 选取最优模型参数"
      ]
    },
    {
      "cell_type": "code",
      "execution_count": null,
      "metadata": {
        "id": "3tZSh-1q3BOK"
      },
      "outputs": [],
      "source": [
        "x_train = train_df['text']\n",
        "y_train = train_df['label']\n",
        "\n",
        "x_test = eval_df['text']\n",
        "y_test = eval_df['label']"
      ]
    },
    {
      "cell_type": "code",
      "execution_count": null,
      "metadata": {
        "colab": {
          "base_uri": "https://localhost:8080/"
        },
        "id": "ALI-yAVi3BOK",
        "outputId": "39a82231-34fe-4596-b185-7f00f3bece05"
      },
      "outputs": [
        {
          "output_type": "stream",
          "name": "stdout",
          "text": [
            "Accuracy: 0.9279166666666666\n",
            "Indicators：\n",
            "               precision    recall  f1-score   support\n",
            "\n",
            "           0       0.89      0.92      0.91       715\n",
            "           1       0.83      0.87      0.85       261\n",
            "           2       0.66      0.51      0.58       169\n",
            "           3       1.00      1.00      1.00      1255\n",
            "\n",
            "    accuracy                           0.93      2400\n",
            "   macro avg       0.85      0.83      0.83      2400\n",
            "weighted avg       0.92      0.93      0.93      2400\n",
            "\n"
          ]
        }
      ],
      "source": [
        "#3 贝叶斯分类器对新闻进行预测\n",
        "# 进行文本转化为特征\n",
        "vec = CountVectorizer()\n",
        "x_train = vec.fit_transform(x_train)\n",
        "x_test = vec.transform(x_test)\n",
        "# 初始化朴素贝叶斯模型\n",
        "mnb = MultinomialNB(alpha=0.001)\n",
        "# 训练集合上进行训练， 估计参数\n",
        "mnb.fit(x_train, y_train)\n",
        "# 对测试集合进行预测 保存预测结果\n",
        "y_predict = mnb.predict(x_test)\n",
        "#模型评估\n",
        "print(\"Accuracy:\", mnb.score(x_test, y_test))\n",
        "print(\"Indicators：\\n\",classification_report(y_test, y_predict))"
      ]
    },
    {
      "cell_type": "markdown",
      "metadata": {
        "pycharm": {
          "name": "#%% md\n"
        },
        "id": "kfo9PtA63BOK"
      },
      "source": [
        "4分类问题准确率达到了93%，这体现出了朴素贝叶斯模型的有效性。而对Laplacian Smoothing的分析中可见平化程度越小，文本分类准确率越高（越逼近理论最优值）。\n"
      ]
    }
  ],
  "metadata": {
    "kernelspec": {
      "display_name": "Python 3",
      "language": "python",
      "name": "python3"
    },
    "language_info": {
      "codemirror_mode": {
        "name": "ipython",
        "version": 3
      },
      "file_extension": ".py",
      "mimetype": "text/x-python",
      "name": "python",
      "nbconvert_exporter": "python",
      "pygments_lexer": "ipython3",
      "version": "3.8.5"
    },
    "latex_envs": {
      "LaTeX_envs_menu_present": true,
      "autoclose": false,
      "autocomplete": true,
      "bibliofile": "biblio.bib",
      "cite_by": "apalike",
      "current_citInitial": 1,
      "eqLabelWithNumbers": true,
      "eqNumInitial": 1,
      "hotkeys": {
        "equation": "Ctrl-E",
        "itemize": "Ctrl-I"
      },
      "labels_anchors": false,
      "latex_user_defs": false,
      "report_style_numbering": false,
      "user_envs_cfg": false
    },
    "nbTranslate": {
      "displayLangs": [
        "*"
      ],
      "hotkey": "alt-t",
      "langInMainMenu": true,
      "sourceLang": "en",
      "targetLang": "fr",
      "useGoogleTranslate": true
    },
    "toc": {
      "base_numbering": 1,
      "nav_menu": {},
      "number_sections": true,
      "sideBar": true,
      "skip_h1_title": false,
      "title_cell": "Table of Contents",
      "title_sidebar": "Contents",
      "toc_cell": false,
      "toc_position": {},
      "toc_section_display": true,
      "toc_window_display": false
    },
    "varInspector": {
      "cols": {
        "lenName": 16,
        "lenType": 16,
        "lenVar": 40
      },
      "kernels_config": {
        "python": {
          "delete_cmd_postfix": "",
          "delete_cmd_prefix": "del ",
          "library": "var_list.py",
          "varRefreshCmd": "print(var_dic_list())"
        },
        "r": {
          "delete_cmd_postfix": ") ",
          "delete_cmd_prefix": "rm(",
          "library": "var_list.r",
          "varRefreshCmd": "cat(var_dic_list()) "
        }
      },
      "types_to_exclude": [
        "module",
        "function",
        "builtin_function_or_method",
        "instance",
        "_Feature"
      ],
      "window_display": false
    },
    "colab": {
      "name": "naive_bayes.ipynb",
      "provenance": [],
      "collapsed_sections": []
    }
  },
  "nbformat": 4,
  "nbformat_minor": 0
}