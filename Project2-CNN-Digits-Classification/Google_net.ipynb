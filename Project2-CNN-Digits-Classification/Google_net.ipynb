{
 "cells": [
  {
   "cell_type": "markdown",
   "metadata": {
    "id": "hnr_Hf3lRwRH"
   },
   "source": [
    "# 当代人工智能 Project2\n",
    "## 卷积神经网络手写数字识别"
   ]
  },
  {
   "cell_type": "code",
   "execution_count": 1,
   "metadata": {
    "id": "CXt05UtlLUcz"
   },
   "outputs": [],
   "source": [
    "import tensorflow as tf\n",
    "import matplotlib.pyplot as plt\n",
    "from tensorflow.keras import datasets, layers, models, losses, Model"
   ]
  },
  {
   "cell_type": "markdown",
   "metadata": {
    "id": "d3aO6em4V5yo"
   },
   "source": [
    "导入TensorFlow和用于可视化的库"
   ]
  },
  {
   "cell_type": "code",
   "execution_count": 2,
   "metadata": {
    "id": "PhrdpQDmu1S7"
   },
   "outputs": [],
   "source": [
    "import pandas as pd"
   ]
  },
  {
   "cell_type": "code",
   "execution_count": 3,
   "metadata": {
    "colab": {
     "base_uri": "https://localhost:8080/",
     "height": 35
    },
    "id": "52wPav8Gk4pG",
    "outputId": "c7d80667-90ce-4210-f067-e29c4380866d"
   },
   "outputs": [
    {
     "data": {
      "application/vnd.google.colaboratory.intrinsic+json": {
       "type": "string"
      },
      "text/plain": [
       "'2.6.0'"
      ]
     },
     "execution_count": 3,
     "metadata": {},
     "output_type": "execute_result"
    }
   ],
   "source": [
    "tf.__version__"
   ]
  },
  {
   "cell_type": "markdown",
   "metadata": {
    "id": "xsmaIUdcWB6F"
   },
   "source": [
    "实验开始前先取相应的数据集数据，做预处理"
   ]
  },
  {
   "cell_type": "code",
   "execution_count": null,
   "metadata": {
    "id": "sWZu6U1dRQ4x"
   },
   "outputs": [],
   "source": [
    "(x_train, y_train), (x_test, y_test)=tf.keras.datasets.mnist.load_data()\n",
    "# 直接load mnist手写数字数据集，50000条训练，10000条测试\n",
    "x_train = tf.pad(x_train, [[0, 0], [2,2], [2,2]])/255\n",
    "x_test = tf.pad(x_test, [[0, 0], [2,2], [2,2]])/255\n",
    "# 注意需要Padding，paddings=[[1,1],[1,1]]的意思是向上填充一行0，向下填充一行0，向左填充一行0，向右填充一行0，以此类推\n",
    "x_train = tf.expand_dims(x_train, axis=3, name=None)\n",
    "x_test = tf.expand_dims(x_test, axis=3, name=None)"
   ]
  },
  {
   "cell_type": "code",
   "execution_count": 4,
   "metadata": {
    "colab": {
     "base_uri": "https://localhost:8080/"
    },
    "id": "baxvTVSQLcC9",
    "outputId": "0c419003-25d3-4701-8860-53c6bc6fe0b1"
   },
   "outputs": [
    {
     "name": "stdout",
     "output_type": "stream",
     "text": [
      "Downloading data from https://storage.googleapis.com/tensorflow/tf-keras-datasets/mnist.npz\n",
      "11493376/11490434 [==============================] - 0s 0us/step\n",
      "11501568/11490434 [==============================] - 0s 0us/step\n"
     ]
    }
   ],
   "source": [
    "x_train = tf.repeat(x_train, 3, axis=3)\n",
    "x_test = tf.repeat(x_test, 3, axis=3)\n",
    "x_val = x_train[-2000:,:,:]\n",
    "y_val = y_train[-2000:]\n",
    "x_train = x_train[:-2000,:,:]\n",
    "y_train = y_train[:-2000]"
   ]
  },
  {
   "cell_type": "markdown",
   "metadata": {
    "id": "3FF61IIESAC6"
   },
   "source": [
    "实现Inception模块，返回的张量为各分量的“聚合”"
   ]
  },
  {
   "cell_type": "code",
   "execution_count": null,
   "metadata": {
    "id": "6wKcYCdaLcFU"
   },
   "outputs": [],
   "source": [
    "def inception(x,filters_1x1,filters_3x3_reduce,filters_3x3,filters_5x5_reduce,filters_5x5,filters_pool):\n",
    "  pth1 = layers.Conv2D(filters_1x1, (1, 1), padding='same', activation='relu')(x)\n",
    "  pth2 = layers.Conv2D(filters_3x3_reduce, (1, 1), padding='same', activation='relu')(x)\n",
    "  pth2 = layers.Conv2D(filters_3x3, (1, 1), padding='same', activation='relu')(pth2)\n",
    "  pth3 = layers.Conv2D(filters_5x5_reduce, (1, 1), padding='same', activation='relu')(x)\n",
    "  pth3 = layers.Conv2D(filters_5x5, (1, 1), padding='same', activation='relu')(pth3)\n",
    "  pth4 = layers.MaxPool2D((3, 3), strides=(1, 1), padding='same')(x)\n",
    "  pth4 = layers.Conv2D(filters_pool, (1, 1), padding='same', activation='relu')(pth4)\n",
    "  # 使用concat来聚合不同卷积部分的结果\n",
    "  return tf.concat([pth1, pth2, pth3, pth4], axis=3)"
   ]
  },
  {
   "cell_type": "markdown",
   "metadata": {
    "id": "CfPSek1bUa60"
   },
   "source": [
    "在Inception模块中，我们需要考虑3x3，5x5以及用于降维的1x1卷积块"
   ]
  },
  {
   "cell_type": "code",
   "execution_count": null,
   "metadata": {
    "id": "XjlSbTL_U9lI"
   },
   "outputs": [],
   "source": [
    "incep = layers.Input(shape=(32, 32, 3))\n",
    "input_tensor = layers.experimental.preprocessing.Resizing(224, 224, \n",
    "                                                          interpolation=\"bilinear\", #双线插值\n",
    "                                                          input_shape=x_train.shape[1:])(incep)\n",
    "                                            "
   ]
  },
  {
   "cell_type": "code",
   "execution_count": null,
   "metadata": {
    "id": "nDEI1TMtLcHq"
   },
   "outputs": [],
   "source": [
    "# 卷积，注意需要padding补0\n",
    "x = layers.Conv2D(64, 7, strides=2, padding='same', activation='relu')(input_tensor)\n",
    "x = layers.MaxPooling2D(3, strides=2)(x)\n",
    "x = layers.Conv2D(64, 1, strides=1, padding='same', activation='relu')(x)\n",
    "x = layers.Conv2D(192, 3, strides=1, padding='same', activation='relu')(x)\n",
    "x = layers.MaxPooling2D(3, strides=2)(x)\n",
    "\n",
    "# 使用inception模块搭建GoogleNet，重复调用这个函数\n",
    "x = inception(x,\n",
    "              fil_1x1=64,\n",
    "              fil_3x3_reduce=96,\n",
    "              fil_3x3=128,\n",
    "              fil_5x5_reduce=16,\n",
    "              fil_5x5=32,\n",
    "              fil_pool=32)\n",
    "\n",
    "x = inception(x,\n",
    "              fil_1x1=128,\n",
    "              fil_3x3_reduce=128,\n",
    "              fil_3x3=192,\n",
    "              fil_5x5_reduce=32,\n",
    "              fil_5x5=96,\n",
    "              fil_pool=64)\n",
    "\n",
    "x = layers.MaxPooling2D(3, strides=2)(x)\n",
    "\n",
    "x = inception(x,\n",
    "              fil_1x1=192,\n",
    "              fil_3x3_reduce=96,\n",
    "              fil_3x3=208,\n",
    "              fil_5x5_reduce=16,\n",
    "              fil_5x5=48,\n",
    "              fil_pool=64)\n",
    "\n",
    "aux1 = layers.AveragePooling2D((5, 5), strides=3)(x)\n",
    "aux1 = layers.Conv2D(128, 1, padding='same', activation='relu')(aux1)\n",
    "aux1 = layers.Flatten()(aux1)\n",
    "aux1 = layers.Dense(1024, activation='relu')(aux1)\n",
    "aux1 = layers.Dropout(0.7)(aux1)\n",
    "aux1 = layers.Dense(10, activation='softmax')(aux1)\n",
    "\n",
    "x = inception(x,\n",
    "              fil_1x1=160,\n",
    "              fil_3x3_reduce=112,\n",
    "              fil_3x3=224,\n",
    "              fil_5x5_reduce=24,\n",
    "              fil_5x5=64,\n",
    "              fil_pool=64)\n",
    "\n",
    "x = inception(x,\n",
    "              fil_1x1=128,\n",
    "              fil_3x3_reduce=128,\n",
    "              fil_3x3=256,\n",
    "              fil_5x5_reduce=24,\n",
    "              fil_5x5=64,\n",
    "              fil_pool=64)\n",
    "\n",
    "x = inception(x,\n",
    "              fil_1x1=112,\n",
    "              fil_3x3_reduce=144,\n",
    "              fil_3x3=288,\n",
    "              fil_5x5_reduce=32,\n",
    "              fil_5x5=64,\n",
    "              fil_pool=64)\n",
    "\n",
    "# 此处需要实现辅助损失函数，辅助损失函数的作用是用于缓解梯度问题，具体解释请见实验报告的模型结构部分\n",
    "\n",
    "aux2 = layers.AveragePooling2D((5, 5), strides=3)(x)\n",
    "aux2 = layers.Conv2D(128, 1, padding='same', activation='relu')(aux2)\n",
    "aux2 = layers.Flatten()(aux2)\n",
    "aux2 = layers.Dense(1024, activation='relu')(aux2)\n",
    "aux2 = layers.Dropout(0.7)(aux2)\n",
    "aux2 = layers.Dense(10, activation='softmax')(aux2)\n",
    "\n",
    "x = inception(x,\n",
    "              fil_1x1=256,\n",
    "              fil_3x3_reduce=160,\n",
    "              fil_3x3=320,\n",
    "              fil_5x5_reduce=32,\n",
    "              fil_5x5=128,\n",
    "              fil_pool=128)\n",
    "\n",
    "x = layers.MaxPooling2D(3, strides=2)(x)\n",
    "\n",
    "x = inception(x,\n",
    "              fil_1x1=256,\n",
    "              fil_3x3_reduce=160,\n",
    "              fil_3x3=320,\n",
    "              fil_5x5_reduce=32,\n",
    "              fil_5x5=128,\n",
    "              fil_pool=128)\n",
    "\n",
    "x = inception(x,\n",
    "              fil_1x1=384,\n",
    "              fil_3x3_reduce=192,\n",
    "              fil_3x3=384,\n",
    "              fil_5x5_reduce=48,\n",
    "              fil_5x5=128,\n",
    "              fil_pool=128)\n",
    "\n",
    "x = layers.GlobalAveragePooling2D()(x) #使用GAP\n",
    "\n",
    "x = layers.Dropout(0.4)(x) # 0.4,0.5\n",
    "out = layers.Dense(10, activation='softmax')(x)"
   ]
  },
  {
   "cell_type": "markdown",
   "metadata": {
    "id": "vFPfbDaCSxRe"
   },
   "source": [
    "搭建Model，模型需要考虑\n",
    "1. 主损失（我们训练的目标）\n",
    "2. 辅助损失函数1\n",
    "3. 辅助损失函数2"
   ]
  },
  {
   "cell_type": "code",
   "execution_count": null,
   "metadata": {
    "id": "WzIFlLP9LcLQ"
   },
   "outputs": [],
   "source": [
    "model = Model(inputs = inp, outputs = [out, aux1, aux2])\n",
    "# 构建模型，需要注意辅助损失函数只是中间过程"
   ]
  },
  {
   "cell_type": "markdown",
   "metadata": {
    "id": "rs3nYL6HS9IC"
   },
   "source": [
    "调用adam优化器进行训练"
   ]
  },
  {
   "cell_type": "code",
   "execution_count": null,
   "metadata": {
    "id": "5yPzfFaYgbRo"
   },
   "outputs": [],
   "source": [
    "opt = 'adam' # rmsprop也可以"
   ]
  },
  {
   "cell_type": "markdown",
   "metadata": {
    "id": "JfTakzrnbcY5"
   },
   "source": [
    "损失函数使用losses.sparse_categorical_crossentropy。sparse即真实的标签值以直接传入int类型的标签类别"
   ]
  },
  {
   "cell_type": "code",
   "execution_count": null,
   "metadata": {
    "id": "wJjdIxC1aWwO"
   },
   "outputs": [],
   "source": [
    "model.compile(optimizer='adam', loss=[losses.sparse_categorical_crossentropy, \n",
    "                                      losses.sparse_categorical_crossentropy, \n",
    "                                      losses.sparse_categorical_crossentropy], \n",
    "              # 损失需要加权\n",
    "              loss_weights=[1, 0.3, 0.3], metrics=['accuracy']) # 主损失和auxiliary损失"
   ]
  },
  {
   "cell_type": "markdown",
   "metadata": {
    "id": "gZRQnpJDTOQY"
   },
   "source": [
    "开始训练，一共进行20个epoch的训练，BatchSize设定为64"
   ]
  },
  {
   "cell_type": "code",
   "execution_count": null,
   "metadata": {
    "colab": {
     "base_uri": "https://localhost:8080/"
    },
    "id": "VofnKKKoauYX",
    "outputId": "959d4957-cedc-412e-a320-c94e91475b8e"
   },
   "outputs": [
    {
     "name": "stdout",
     "output_type": "stream",
     "text": [
      "Epoch 1/20\n",
      "907/907 [==============================] - 370s 367ms/step - loss: 1.2308 - dense_4_loss: 0.9021 - dense_1_loss: 0.5132 - dense_3_loss: 0.5826 - dense_4_accuracy: 0.6791 - dense_1_accuracy: 0.8263 - dense_3_accuracy: 0.8015 - val_loss: 0.1818 - val_dense_4_loss: 0.1370 - val_dense_1_loss: 0.0748 - val_dense_3_loss: 0.0746 - val_dense_4_accuracy: 0.9650 - val_dense_1_accuracy: 0.9795 - val_dense_3_accuracy: 0.9805\n",
      "Epoch 2/20\n",
      "907/907 [==============================] - 329s 363ms/step - loss: 0.2281 - dense_4_loss: 0.1584 - dense_1_loss: 0.1104 - dense_3_loss: 0.1219 - dense_4_accuracy: 0.9533 - dense_1_accuracy: 0.9658 - dense_3_accuracy: 0.9633 - val_loss: 0.0917 - val_dense_4_loss: 0.0645 - val_dense_1_loss: 0.0415 - val_dense_3_loss: 0.0494 - val_dense_4_accuracy: 0.9810 - val_dense_1_accuracy: 0.9905 - val_dense_3_accuracy: 0.9860\n",
      "Epoch 3/20\n",
      "907/907 [==============================] - 332s 366ms/step - loss: 0.1483 - dense_4_loss: 0.1000 - dense_1_loss: 0.0774 - dense_3_loss: 0.0834 - dense_4_accuracy: 0.9694 - dense_1_accuracy: 0.9761 - dense_3_accuracy: 0.9753 - val_loss: 0.0780 - val_dense_4_loss: 0.0514 - val_dense_1_loss: 0.0514 - val_dense_3_loss: 0.0373 - val_dense_4_accuracy: 0.9870 - val_dense_1_accuracy: 0.9860 - val_dense_3_accuracy: 0.9905\n",
      "Epoch 4/20\n",
      "907/907 [==============================] - 330s 364ms/step - loss: 0.1123 - dense_4_loss: 0.0738 - dense_1_loss: 0.0623 - dense_3_loss: 0.0660 - dense_4_accuracy: 0.9776 - dense_1_accuracy: 0.9806 - dense_3_accuracy: 0.9804 - val_loss: 0.0992 - val_dense_4_loss: 0.0772 - val_dense_1_loss: 0.0327 - val_dense_3_loss: 0.0409 - val_dense_4_accuracy: 0.9755 - val_dense_1_accuracy: 0.9925 - val_dense_3_accuracy: 0.9900\n",
      "Epoch 5/20\n",
      "907/907 [==============================] - 331s 365ms/step - loss: 0.1010 - dense_4_loss: 0.0663 - dense_1_loss: 0.0573 - dense_3_loss: 0.0584 - dense_4_accuracy: 0.9802 - dense_1_accuracy: 0.9833 - dense_3_accuracy: 0.9824 - val_loss: 0.0571 - val_dense_4_loss: 0.0366 - val_dense_1_loss: 0.0394 - val_dense_3_loss: 0.0288 - val_dense_4_accuracy: 0.9890 - val_dense_1_accuracy: 0.9895 - val_dense_3_accuracy: 0.9930\n",
      "Epoch 6/20\n",
      "907/907 [==============================] - 331s 364ms/step - loss: 0.0912 - dense_4_loss: 0.0594 - dense_1_loss: 0.0517 - dense_3_loss: 0.0543 - dense_4_accuracy: 0.9815 - dense_1_accuracy: 0.9844 - dense_3_accuracy: 0.9838 - val_loss: 0.0574 - val_dense_4_loss: 0.0380 - val_dense_1_loss: 0.0406 - val_dense_3_loss: 0.0238 - val_dense_4_accuracy: 0.9920 - val_dense_1_accuracy: 0.9920 - val_dense_3_accuracy: 0.9940\n",
      "Epoch 7/20\n",
      "907/907 [==============================] - 331s 365ms/step - loss: 0.0762 - dense_4_loss: 0.0492 - dense_1_loss: 0.0443 - dense_3_loss: 0.0459 - dense_4_accuracy: 0.9850 - dense_1_accuracy: 0.9864 - dense_3_accuracy: 0.9863 - val_loss: 0.0562 - val_dense_4_loss: 0.0382 - val_dense_1_loss: 0.0333 - val_dense_3_loss: 0.0269 - val_dense_4_accuracy: 0.9900 - val_dense_1_accuracy: 0.9925 - val_dense_3_accuracy: 0.9930\n",
      "Epoch 8/20\n",
      "907/907 [==============================] - 331s 365ms/step - loss: 0.0696 - dense_4_loss: 0.0447 - dense_1_loss: 0.0408 - dense_3_loss: 0.0424 - dense_4_accuracy: 0.9858 - dense_1_accuracy: 0.9877 - dense_3_accuracy: 0.9871 - val_loss: 0.0718 - val_dense_4_loss: 0.0490 - val_dense_1_loss: 0.0447 - val_dense_3_loss: 0.0310 - val_dense_4_accuracy: 0.9890 - val_dense_1_accuracy: 0.9915 - val_dense_3_accuracy: 0.9925\n",
      "Epoch 9/20\n",
      "907/907 [==============================] - 331s 365ms/step - loss: 0.0682 - dense_4_loss: 0.0439 - dense_1_loss: 0.0401 - dense_3_loss: 0.0407 - dense_4_accuracy: 0.9860 - dense_1_accuracy: 0.9883 - dense_3_accuracy: 0.9875 - val_loss: 0.0502 - val_dense_4_loss: 0.0330 - val_dense_1_loss: 0.0325 - val_dense_3_loss: 0.0248 - val_dense_4_accuracy: 0.9935 - val_dense_1_accuracy: 0.9925 - val_dense_3_accuracy: 0.9955\n",
      "Epoch 10/20\n",
      "907/907 [==============================] - 331s 364ms/step - loss: 0.0602 - dense_4_loss: 0.0381 - dense_1_loss: 0.0380 - dense_3_loss: 0.0358 - dense_4_accuracy: 0.9879 - dense_1_accuracy: 0.9884 - dense_3_accuracy: 0.9892 - val_loss: 0.0384 - val_dense_4_loss: 0.0239 - val_dense_1_loss: 0.0268 - val_dense_3_loss: 0.0216 - val_dense_4_accuracy: 0.9950 - val_dense_1_accuracy: 0.9940 - val_dense_3_accuracy: 0.9935\n",
      "Epoch 11/20\n",
      "907/907 [==============================] - 330s 364ms/step - loss: 0.0573 - dense_4_loss: 0.0362 - dense_1_loss: 0.0345 - dense_3_loss: 0.0360 - dense_4_accuracy: 0.9889 - dense_1_accuracy: 0.9899 - dense_3_accuracy: 0.9895 - val_loss: 0.0453 - val_dense_4_loss: 0.0298 - val_dense_1_loss: 0.0279 - val_dense_3_loss: 0.0239 - val_dense_4_accuracy: 0.9920 - val_dense_1_accuracy: 0.9935 - val_dense_3_accuracy: 0.9955\n",
      "Epoch 12/20\n",
      "907/907 [==============================] - 330s 364ms/step - loss: 0.0534 - dense_4_loss: 0.0337 - dense_1_loss: 0.0324 - dense_3_loss: 0.0332 - dense_4_accuracy: 0.9896 - dense_1_accuracy: 0.9903 - dense_3_accuracy: 0.9899 - val_loss: 0.0553 - val_dense_4_loss: 0.0367 - val_dense_1_loss: 0.0302 - val_dense_3_loss: 0.0317 - val_dense_4_accuracy: 0.9915 - val_dense_1_accuracy: 0.9940 - val_dense_3_accuracy: 0.9930\n",
      "Epoch 13/20\n",
      "907/907 [==============================] - 330s 363ms/step - loss: 0.0483 - dense_4_loss: 0.0304 - dense_1_loss: 0.0303 - dense_3_loss: 0.0292 - dense_4_accuracy: 0.9901 - dense_1_accuracy: 0.9908 - dense_3_accuracy: 0.9912 - val_loss: 0.0484 - val_dense_4_loss: 0.0294 - val_dense_1_loss: 0.0358 - val_dense_3_loss: 0.0276 - val_dense_4_accuracy: 0.9915 - val_dense_1_accuracy: 0.9925 - val_dense_3_accuracy: 0.9940\n",
      "Epoch 14/20\n",
      "907/907 [==============================] - 329s 363ms/step - loss: 0.0450 - dense_4_loss: 0.0275 - dense_1_loss: 0.0302 - dense_3_loss: 0.0280 - dense_4_accuracy: 0.9910 - dense_1_accuracy: 0.9905 - dense_3_accuracy: 0.9914 - val_loss: 0.0496 - val_dense_4_loss: 0.0339 - val_dense_1_loss: 0.0299 - val_dense_3_loss: 0.0224 - val_dense_4_accuracy: 0.9915 - val_dense_1_accuracy: 0.9940 - val_dense_3_accuracy: 0.9955\n",
      "Epoch 15/20\n",
      "907/907 [==============================] - 329s 363ms/step - loss: 0.0461 - dense_4_loss: 0.0291 - dense_1_loss: 0.0283 - dense_3_loss: 0.0286 - dense_4_accuracy: 0.9912 - dense_1_accuracy: 0.9911 - dense_3_accuracy: 0.9915 - val_loss: 0.0417 - val_dense_4_loss: 0.0232 - val_dense_1_loss: 0.0327 - val_dense_3_loss: 0.0289 - val_dense_4_accuracy: 0.9950 - val_dense_1_accuracy: 0.9940 - val_dense_3_accuracy: 0.9935\n",
      "Epoch 16/20\n",
      "907/907 [==============================] - 329s 363ms/step - loss: 0.0426 - dense_4_loss: 0.0264 - dense_1_loss: 0.0268 - dense_3_loss: 0.0274 - dense_4_accuracy: 0.9918 - dense_1_accuracy: 0.9915 - dense_3_accuracy: 0.9921 - val_loss: 0.0397 - val_dense_4_loss: 0.0232 - val_dense_1_loss: 0.0359 - val_dense_3_loss: 0.0192 - val_dense_4_accuracy: 0.9955 - val_dense_1_accuracy: 0.9915 - val_dense_3_accuracy: 0.9955\n",
      "Epoch 17/20\n",
      "907/907 [==============================] - 329s 363ms/step - loss: 0.0403 - dense_4_loss: 0.0251 - dense_1_loss: 0.0255 - dense_3_loss: 0.0253 - dense_4_accuracy: 0.9917 - dense_1_accuracy: 0.9923 - dense_3_accuracy: 0.9924 - val_loss: 0.0625 - val_dense_4_loss: 0.0411 - val_dense_1_loss: 0.0352 - val_dense_3_loss: 0.0362 - val_dense_4_accuracy: 0.9915 - val_dense_1_accuracy: 0.9925 - val_dense_3_accuracy: 0.9925\n",
      "Epoch 18/20\n",
      "907/907 [==============================] - 329s 362ms/step - loss: 0.0386 - dense_4_loss: 0.0242 - dense_1_loss: 0.0242 - dense_3_loss: 0.0240 - dense_4_accuracy: 0.9923 - dense_1_accuracy: 0.9927 - dense_3_accuracy: 0.9923 - val_loss: 0.0402 - val_dense_4_loss: 0.0262 - val_dense_1_loss: 0.0263 - val_dense_3_loss: 0.0205 - val_dense_4_accuracy: 0.9945 - val_dense_1_accuracy: 0.9965 - val_dense_3_accuracy: 0.9950\n",
      "Epoch 19/20\n",
      "907/907 [==============================] - 329s 363ms/step - loss: 0.0375 - dense_4_loss: 0.0229 - dense_1_loss: 0.0244 - dense_3_loss: 0.0244 - dense_4_accuracy: 0.9924 - dense_1_accuracy: 0.9924 - dense_3_accuracy: 0.9926 - val_loss: 0.0655 - val_dense_4_loss: 0.0448 - val_dense_1_loss: 0.0384 - val_dense_3_loss: 0.0303 - val_dense_4_accuracy: 0.9920 - val_dense_1_accuracy: 0.9935 - val_dense_3_accuracy: 0.9940\n",
      "Epoch 20/20\n",
      "907/907 [==============================] - 329s 363ms/step - loss: 0.0345 - dense_4_loss: 0.0208 - dense_1_loss: 0.0230 - dense_3_loss: 0.0227 - dense_4_accuracy: 0.9932 - dense_1_accuracy: 0.9930 - dense_3_accuracy: 0.9929 - val_loss: 0.0395 - val_dense_4_loss: 0.0245 - val_dense_1_loss: 0.0312 - val_dense_3_loss: 0.0189 - val_dense_4_accuracy: 0.9945 - val_dense_1_accuracy: 0.9935 - val_dense_3_accuracy: 0.9960\n"
     ]
    }
   ],
   "source": [
    "history = model.fit(x_train, [y_train, y_train, y_train], \n",
    "                    # 加载训练集和验证集\n",
    "                    validation_data=(x_val, [y_val, y_val, y_val]), \n",
    "                    batch_size=64, epochs=20)"
   ]
  },
  {
   "cell_type": "markdown",
   "metadata": {
    "id": "pXq1anRMTRIq"
   },
   "source": [
    "这里务必注意，两个辅助损失模块对我们的最终结果没有意义，我们只care主损失和其精确度，可以看到主损失在验证集上的准确度可以达到约99.5%，将这部分数据保存，再对其进行可视化"
   ]
  },
  {
   "cell_type": "code",
   "execution_count": null,
   "metadata": {
    "id": "Q5sjwFTQyxvQ"
   },
   "outputs": [],
   "source": [
    "pd.DataFrame(history.history).to_csv('mnist_training_log.csv', index=False)"
   ]
  },
  {
   "cell_type": "code",
   "execution_count": 5,
   "metadata": {
    "id": "67BXiOwTeumS"
   },
   "outputs": [],
   "source": [
    "history = pd.read_csv(\"mnist_training_log.csv\")"
   ]
  },
  {
   "cell_type": "markdown",
   "metadata": {
    "id": "h64VMzQ8Tn6i"
   },
   "source": [
    "可视化随着训练过程的进行，损失下降的情况"
   ]
  },
  {
   "cell_type": "code",
   "execution_count": 16,
   "metadata": {
    "colab": {
     "base_uri": "https://localhost:8080/",
     "height": 475
    },
    "id": "53UluuOE5TX_",
    "outputId": "f2deaa2a-5474-4305-f3da-01feba199a48"
   },
   "outputs": [
    {
     "data": {
      "text/plain": [
       "<matplotlib.legend.Legend at 0x7f04d8a83c10>"
      ]
     },
     "execution_count": 16,
     "metadata": {},
     "output_type": "execute_result"
    },
    {
     "data": {
      "image/png": "[encoded data removed]",
      "text/plain": [
       "<Figure size 864x504 with 1 Axes>"
      ]
     },
     "metadata": {
      "needs_background": "light"
     },
     "output_type": "display_data"
    }
   ],
   "source": [
    "plt.gcf().set_size_inches(12, 7)\n",
    "plt.plot(history['loss'])\n",
    "plt.plot(history['val_loss'])\n",
    "plt.title('Training Loss & Validation Loss')\n",
    "plt.xlabel('Epochs')\n",
    "plt.ylabel('Loss')\n",
    "plt.grid(linestyle='-.')\n",
    "plt.legend(['Training','Validation'])"
   ]
  },
  {
   "cell_type": "markdown",
   "metadata": {
    "id": "NlvDOedfUPZk"
   },
   "source": [
    "可视化Accuracy"
   ]
  },
  {
   "cell_type": "code",
   "execution_count": 15,
   "metadata": {
    "colab": {
     "base_uri": "https://localhost:8080/",
     "height": 475
    },
    "id": "brljSozxg4Xn",
    "outputId": "3d6b6721-283b-40cd-de3e-41c21cfe064d"
   },
   "outputs": [
    {
     "data": {
      "text/plain": [
       "<matplotlib.legend.Legend at 0x7f04d8dae9d0>"
      ]
     },
     "execution_count": 15,
     "metadata": {},
     "output_type": "execute_result"
    },
    {
     "data": {
      "image/png": "[encoded data removed]",
      "text/plain": [
       "<Figure size 864x504 with 1 Axes>"
      ]
     },
     "metadata": {
      "needs_background": "light"
     },
     "output_type": "display_data"
    }
   ],
   "source": [
    "plt.gcf().set_size_inches(12, 7)\n",
    "plt.plot(history['dense_4_accuracy'])\n",
    "plt.plot(history['val_dense_4_accuracy'])\n",
    "plt.title('Training Accuracy & Validation Accuracy')\n",
    "plt.xlabel('Epochs')\n",
    "plt.grid(linestyle='-.')\n",
    "plt.ylabel('Loss')\n",
    "plt.legend(['Training','Validation'])"
   ]
  },
  {
   "cell_type": "markdown",
   "metadata": {
    "id": "5g_QdKllYO1V"
   },
   "source": [
    "随后在测试集上进行测试"
   ]
  },
  {
   "cell_type": "code",
   "execution_count": null,
   "metadata": {
    "id": "UgENGk0DYJTM"
   },
   "outputs": [],
   "source": [
    "model.evaluate(x_test, y_test)"
   ]
  }
 ],
 "metadata": {
  "colab": {
   "collapsed_sections": [],
   "name": "Contemporary_artificial_intelligence_project2.ipynb",
   "provenance": []
  },
  "kernelspec": {
   "display_name": "Python 3",
   "language": "python",
   "name": "python3"
  },
  "language_info": {
   "codemirror_mode": {
    "name": "ipython",
    "version": 3
   },
   "file_extension": ".py",
   "mimetype": "text/x-python",
   "name": "python",
   "nbconvert_exporter": "python",
   "pygments_lexer": "ipython3",
   "version": "3.8.5"
  }
 },
 "nbformat": 4,
 "nbformat_minor": 4
}
